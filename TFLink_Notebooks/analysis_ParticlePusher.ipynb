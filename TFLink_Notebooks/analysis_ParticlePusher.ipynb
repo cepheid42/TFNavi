{
 "cells": [
  {
   "cell_type": "markdown",
   "id": "formal-origin",
   "metadata": {},
   "source": [
    "# Particle Pusher Test Analysis"
   ]
  },
  {
   "cell_type": "markdown",
   "id": "registered-dancing",
   "metadata": {},
   "source": [
    "## Import Libraries"
   ]
  },
  {
   "cell_type": "code",
   "execution_count": 1,
   "id": "distributed-pleasure",
   "metadata": {},
   "outputs": [],
   "source": [
    "# import Python libraries\n",
    "import numpy as np\n",
    "import matplotlib.pyplot as plt\n",
    "from IPython.display import Markdown as md\n",
    "\n",
    "# import TFNavi libraries\n",
    "import sys\n",
    "sys.path.append(\"/Users/akis/projects/tfnavi\")\n",
    "import Maxwell_HDF5_reader as emH5\n",
    "import ParticlePusher_HDF5_reader as ppH5\n",
    "import TFNavi as navi"
   ]
  },
  {
   "cell_type": "markdown",
   "id": "regional-notebook",
   "metadata": {},
   "source": [
    "## Import Constants"
   ]
  },
  {
   "cell_type": "code",
   "execution_count": 23,
   "id": "fifth-solomon",
   "metadata": {},
   "outputs": [
    {
     "name": "stdout",
     "output_type": "stream",
     "text": [
      "Importing constants...\n",
      "    MP: 1.67262e-27 kg\n",
      "    ME: 9.10938e-31 kg\n",
      "    QE: 1.60218e-19 C\n",
      "    KB: 1.38065e-23 J K^-1\n",
      "  EPS0: 8.85419e-12 F m^-1\n"
     ]
    }
   ],
   "source": [
    "from scipy.constants import proton_mass as MP, electron_mass as ME, elementary_charge as QE, k as KB, epsilon_0 as EPS0, unit\n",
    "print(\"Importing constants...\")\n",
    "print(\"    MP: {0:.5e} {1}\".format(MP, unit(u\"proton mass\")))\n",
    "print(\"    ME: {0:.5e} {1}\".format(ME, unit(u\"electron mass\")))\n",
    "print(\"    QE: {0:.5e} {1}\".format(QE, unit(u\"elementary charge\")))\n",
    "print(\"    KB: {0:.5e} {1}\".format(KB, unit(u\"Boltzmann constant\")))\n",
    "print(\"  EPS0: {0:.5e} {1}\".format(EPS0, unit(u\"vacuum electric permittivity\")))"
   ]
  },
  {
   "cell_type": "code",
   "execution_count": 29,
   "id": "committed-oliver",
   "metadata": {},
   "outputs": [],
   "source": [
    "data = ppH5.easy_read(\"/Users/akis/projects/tflink/tests/test_ParticlePusher/data/\")"
   ]
  },
  {
   "cell_type": "code",
   "execution_count": 1,
   "id": "durable-baseline",
   "metadata": {},
   "outputs": [
    {
     "output_type": "stream",
     "name": "stdout",
     "text": [
      "Hello World!\n"
     ]
    }
   ],
   "source": [
    "print(\"Hello World!\")"
   ]
  },
  {
   "cell_type": "code",
   "execution_count": null,
   "id": "chronic-investor",
   "metadata": {},
   "outputs": [],
   "source": []
  }
 ],
 "metadata": {
  "kernelspec": {
   "display_name": "Python 3",
   "language": "python",
   "name": "python3"
  },
  "language_info": {
   "codemirror_mode": {
    "name": "ipython",
    "version": 3
   },
   "file_extension": ".py",
   "mimetype": "text/x-python",
   "name": "python",
   "nbconvert_exporter": "python",
   "pygments_lexer": "ipython3",
   "version": "3.9.2-final"
  }
 },
 "nbformat": 4,
 "nbformat_minor": 5
}