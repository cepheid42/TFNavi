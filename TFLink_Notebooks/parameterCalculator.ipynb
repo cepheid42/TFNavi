{
 "metadata": {
  "language_info": {
   "codemirror_mode": {
    "name": "ipython",
    "version": 3
   },
   "file_extension": ".py",
   "mimetype": "text/x-python",
   "name": "python",
   "nbconvert_exporter": "python",
   "pygments_lexer": "ipython3",
   "version": "3.9.2-final"
  },
  "orig_nbformat": 2,
  "kernelspec": {
   "name": "python3",
   "display_name": "Python 3",
   "language": "python"
  }
 },
 "nbformat": 4,
 "nbformat_minor": 2,
 "cells": [
  {
   "source": [
    "# TFLink Plasma Parameter Calculator\n",
    "\n",
    "This Jupyter notebook is designed to be a convenient way of quickly calculating common plasma parameters"
   ],
   "cell_type": "markdown",
   "metadata": {}
  },
  {
   "source": [
    "## Importing libraries/constants"
   ],
   "cell_type": "markdown",
   "metadata": {}
  },
  {
   "source": [
    "from math import sqrt\n",
    "\n",
    "import numpy as np\n",
    "from scipy.constants import proton_mass as MP, electron_mass as ME, elementary_charge as QE, k as KB, epsilon_0 as EPS0, speed_of_light as C, mu_0 as MU0, unit\n",
    "print(\"Importing constants in MKS units...\\n\")\n",
    "print(\"    MP: {0:.5e} {1}\".format(MP, unit(u\"proton mass\")))\n",
    "print(\"    ME: {0:.5e} {1}\".format(ME, unit(u\"electron mass\")))\n",
    "print(\"    QE: {0:.5e} {1}\".format(QE, unit(u\"elementary charge\")))\n",
    "print(\"    KB: {0:.5e} {1}\".format(KB, unit(u\"Boltzmann constant\")))\n",
    "print(\"  EPS0: {0:.5e} {1}\".format(EPS0, unit(u\"vacuum electric permittivity\")))\n",
    "print(\"   MU0: {0:.5e} {1}\".format(MU0, unit(u\"vacuum mag. permeability\")))\n",
    "print(\"     C: {0:.5e} {1}\".format(C, unit(u\"speed of light in vacuum\")))\n"
   ],
   "cell_type": "code",
   "metadata": {},
   "execution_count": 44,
   "outputs": [
    {
     "output_type": "stream",
     "name": "stdout",
     "text": [
      "Importing constants in MKS units...\n\n    MP: 1.67262e-27 kg\n    ME: 9.10938e-31 kg\n    QE: 1.60218e-19 C\n    KB: 1.38065e-23 J K^-1\n  EPS0: 8.85419e-12 F m^-1\n   MU0: 1.25664e-06 N A^-2\n     C: 2.99792e+08 m s^-1\n"
     ]
    }
   ]
  },
  {
   "source": [
    "## Defining calculator functions"
   ],
   "cell_type": "markdown",
   "metadata": {}
  },
  {
   "cell_type": "code",
   "execution_count": 45,
   "metadata": {},
   "outputs": [],
   "source": [
    "def plasma_frequency(q, n, m):\n",
    "    return(sqrt(n * q**2 / (EPS0 * m)))\n",
    "\n",
    "def gyro_frequency(q, B, m):\n",
    "    return(q * B / m)\n",
    "\n",
    "def debye_length(q, n, T):\n",
    "    return(sqrt(EPS0 * KB * T / (n * q**2)))\n",
    "\n",
    "def gyro_radius(q, B, m, vPerp):\n",
    "    return(m * vPerp / (q * B))\n",
    "\n",
    "def sound_speed(T, m):\n",
    "    return(sqrt(KB * T / m))\n",
    "\n",
    "def exb_drift_speed(E, B):\n",
    "    return(E / B)\n",
    "\n",
    "def plasma_beta(n, T, B):\n",
    "    return(2 * MU0 * n * KB * T / B**2)\n",
    "\n",
    "def thermal_speed(T, m):\n",
    "    return(sqrt(2 * KB * T / m))\n",
    "\n",
    "def ion_electron_mass_ratio(m):\n",
    "    return(m / ME)"
   ]
  },
  {
   "source": [
    "## Setting plasma state"
   ],
   "cell_type": "markdown",
   "metadata": {}
  },
  {
   "cell_type": "code",
   "execution_count": 70,
   "metadata": {},
   "outputs": [],
   "source": [
    "# Global parameters\n",
    "plasmaDensity = 1e18  # per m^3\n",
    "bField = 1.0  # T\n",
    "eField = 0.0  # V/m\n",
    "\n",
    "# Electrons\n",
    "electronTemperature = 11606  # K\n",
    "\n",
    "# Ions\n",
    "ionTemperature = 11606  # K\n",
    "ionMass = MP  # kg\n",
    "ionChargeState = 1\n",
    "ionCharge = ionChargeState * QE  # C"
   ]
  },
  {
   "source": [
    "## Doing all the calculations"
   ],
   "cell_type": "markdown",
   "metadata": {}
  },
  {
   "cell_type": "code",
   "execution_count": 83,
   "metadata": {},
   "outputs": [
    {
     "output_type": "stream",
     "name": "stdout",
     "text": [
      "========== Input Parameters ==========\n\nGlobal:\n\n    Plasma Density       : 1.00000e+18 m^-3\n                         : 1.00000e+12 cm^-3\n\n    Magnetic Field       : 1.00000e+00 T\n                         : 1.00000e+04 G\n\nElectrons:\n\n    Electron Temperature : 1.16060e+04 K\n                         : 1.00013e+00 eV\n\nIons:\n\n    Ion Mass             : 1.67262e-27 kg\n                         : 1.00000e+00 proton masses\n\n    Ion Charge State (Z) : 1\n\n    Ion Temperature      : 1.16060e+04 K\n                         : 1.00013e+00 eV\n\n\n========== Calculated Parameters ==========\n\nGeneral:\n\n    Ion-Elec. Mass Ratio : 1.83615e+03\n\n    ExB Drift Speed      : 0.00000e+00 m/s\n\nElectrons:\n\n    Thermal Velocity     : 5.93135e+05 m/s\n                         : 1.97848e-01 %C\n\n    Plasma Frequency     : 5.64146e+10 rad/s\n\n    Debye Length         : 7.43442e-06 m\n\n    Gyro Frequency       : 1.75882e+11 rad/s\n\n    Gyro Radius          : 3.37235e-06 m\n\n    Plasma Beta          : 4.02722e-07\n\n    Sound Speed          : 4.19410e+05 m/s\n\nIons:\n\n    Thermal Velocity     : 1.38420e+04 m/s\n                         : 4.61720e-03 %C\n\n    Plasma Frequency     : 1.31655e+09 rad/s\n\n    Debye Length         : 7.43442e-06 m\n\n    Gyro Frequency       : 9.57883e+07 rad/s\n\n    Gyro Radius          : 1.44506e-04 m\n\n    Plasma Beta          : 4.02722e-07\n\n    Sound Speed          : 9.78778e+03 m/s\n"
     ]
    }
   ],
   "source": [
    "print(\"=\"*10, \"Input Parameters\", \"=\"*10)\n",
    "print(\"\")\n",
    "print(\"Global:\")\n",
    "print(\"\")\n",
    "print(\"    Plasma Density       : {0:.5e} {1}\".format(plasmaDensity, \"m^-3\"))\n",
    "print(\"                         : {0:.5e} {1}\".format(plasmaDensity*1e-6, \"cm^-3\"))\n",
    "print(\"\")\n",
    "print(\"    Magnetic Field       : {0:.5e} {1}\".format(bField, \"T\"))\n",
    "print(\"                         : {0:.5e} {1}\".format(bField*1e4, \"G\"))\n",
    "print(\"\")\n",
    "print(\"Electrons:\")\n",
    "print(\"\")\n",
    "print(\"    Electron Temperature : {0:.5e} {1}\".format(electronTemperature, \"K\"))\n",
    "print(\"                         : {0:.5e} {1}\".format(electronTemperature*KB/QE, \"eV\"))\n",
    "print(\"\")\n",
    "print(\"Ions:\")\n",
    "print(\"\")\n",
    "print(\"    Ion Mass             : {0:.5e} {1}\".format(ionMass, \"kg\"))\n",
    "print(\"                         : {0:.5e} {1}\".format(ionMass/MP, \"proton masses\"))\n",
    "print(\"\")\n",
    "print(\"    Ion Charge State (Z) : {0}\".format(ionChargeState))\n",
    "print(\"\")\n",
    "print(\"    Ion Temperature      : {0:.5e} {1}\".format(ionTemperature, \"K\"))\n",
    "print(\"                         : {0:.5e} {1}\".format(ionTemperature*KB/QE, \"eV\"))\n",
    "print(\"\")\n",
    "print(\"\")\n",
    "print(\"=\"*10, \"Calculated Parameters\", \"=\"*10)\n",
    "print(\"\")\n",
    "print(\"General:\")\n",
    "print(\"\")\n",
    "print(\"    Ion-Elec. Mass Ratio : {0:.5e}\".format(ion_electron_mass_ratio(ionMass)))\n",
    "print(\"\")\n",
    "print(\"    ExB Drift Speed      : {0:.5e} {1}\".format(exb_drift_speed(eField, bField), \"m/s\"))\n",
    "print(\"\")\n",
    "print(\"Electrons:\")\n",
    "print(\"\")\n",
    "print(\"    Thermal Velocity     : {0:.5e} {1}\".format(thermal_speed(electronTemperature, ME), \"m/s\"))\n",
    "print(\"                         : {0:.5e} {1}\".format(thermal_speed(electronTemperature, ME)/C*100, \"%C\"))\n",
    "print(\"\")\n",
    "print(\"    Plasma Frequency     : {0:.5e} {1}\".format(plasma_frequency(QE, plasmaDensity, ME), \"rad/s\"))\n",
    "print(\"\")\n",
    "print(\"    Debye Length         : {0:.5e} {1}\".format(debye_length(QE, plasmaDensity, electronTemperature), \"m\"))\n",
    "print(\"\")\n",
    "print(\"    Gyro Frequency       : {0:.5e} {1}\".format(gyro_frequency(QE, bField, ME), \"rad/s\"))\n",
    "print(\"\")\n",
    "print(\"    Gyro Radius          : {0:.5e} {1}\".format(gyro_radius(QE, bField, ME, thermal_speed(electronTemperature, ME)), \"m\"))\n",
    "print(\"\")\n",
    "print(\"    Plasma Beta          : {0:.5e}\".format(plasma_beta(plasmaDensity, electronTemperature, bField)))\n",
    "print(\"\")\n",
    "print(\"    Sound Speed          : {0:.5e} {1}\".format(sound_speed(electronTemperature, ME), \"m/s\"))\n",
    "print(\"\")\n",
    "print(\"Ions:\")\n",
    "print(\"\")\n",
    "print(\"    Thermal Velocity     : {0:.5e} {1}\".format(thermal_speed(ionTemperature, ionMass), \"m/s\"))\n",
    "print(\"                         : {0:.5e} {1}\".format(thermal_speed(ionTemperature, ionMass)/C*100, \"%C\"))\n",
    "print(\"\")\n",
    "print(\"    Plasma Frequency     : {0:.5e} {1}\".format(plasma_frequency(ionCharge, plasmaDensity, ionMass), \"rad/s\"))\n",
    "print(\"\")\n",
    "print(\"    Debye Length         : {0:.5e} {1}\".format(debye_length(ionCharge, plasmaDensity, ionTemperature), \"m\"))\n",
    "print(\"\")\n",
    "print(\"    Gyro Frequency       : {0:.5e} {1}\".format(gyro_frequency(ionCharge, bField, ionMass), \"rad/s\"))\n",
    "print(\"\")\n",
    "print(\"    Gyro Radius          : {0:.5e} {1}\".format(gyro_radius(ionCharge, bField, ionMass, thermal_speed(ionTemperature, ionMass)), \"m\"))\n",
    "print(\"\")\n",
    "print(\"    Plasma Beta          : {0:.5e}\".format(plasma_beta(plasmaDensity, ionTemperature, bField)))\n",
    "print(\"\")\n",
    "print(\"    Sound Speed          : {0:.5e} {1}\".format(sound_speed(ionTemperature, ionMass), \"m/s\"))\n"
   ]
  }
 ]
}